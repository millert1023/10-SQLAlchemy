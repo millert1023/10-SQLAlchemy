{
 "cells": [
  {
   "cell_type": "code",
   "execution_count": 1,
   "metadata": {
    "ExecuteTime": {
     "end_time": "2020-02-13T04:20:41.499087Z",
     "start_time": "2020-02-13T04:20:40.764553Z"
    }
   },
   "outputs": [],
   "source": [
    "%matplotlib inline\n",
    "from matplotlib import style\n",
    "style.use('fivethirtyeight')\n",
    "import matplotlib.pyplot as plt"
   ]
  },
  {
   "cell_type": "code",
   "execution_count": 2,
   "metadata": {
    "ExecuteTime": {
     "end_time": "2020-02-13T04:20:42.255935Z",
     "start_time": "2020-02-13T04:20:41.501391Z"
    }
   },
   "outputs": [],
   "source": [
    "import numpy as np\n",
    "import pandas as pd"
   ]
  },
  {
   "cell_type": "code",
   "execution_count": 3,
   "metadata": {
    "ExecuteTime": {
     "end_time": "2020-02-13T04:20:42.267842Z",
     "start_time": "2020-02-13T04:20:42.259376Z"
    }
   },
   "outputs": [],
   "source": [
    "import datetime as dt"
   ]
  },
  {
   "cell_type": "markdown",
   "metadata": {},
   "source": [
    "# Reflect Tables into SQLAlchemy ORM"
   ]
  },
  {
   "cell_type": "code",
   "execution_count": 4,
   "metadata": {
    "ExecuteTime": {
     "end_time": "2020-02-13T04:20:42.592859Z",
     "start_time": "2020-02-13T04:20:42.272888Z"
    }
   },
   "outputs": [],
   "source": [
    "# Python SQL toolkit and Object Relational Mapper\n",
    "import sqlalchemy\n",
    "from sqlalchemy.ext.automap import automap_base\n",
    "from sqlalchemy.orm import Session\n",
    "from sqlalchemy import create_engine, func"
   ]
  },
  {
   "cell_type": "code",
   "execution_count": 5,
   "metadata": {
    "ExecuteTime": {
     "end_time": "2020-02-13T04:20:42.615548Z",
     "start_time": "2020-02-13T04:20:42.592859Z"
    }
   },
   "outputs": [],
   "source": [
    "engine = create_engine(\"sqlite:///Resources/hawaii.sqlite\")"
   ]
  },
  {
   "cell_type": "code",
   "execution_count": 6,
   "metadata": {
    "ExecuteTime": {
     "end_time": "2020-02-13T04:20:42.656806Z",
     "start_time": "2020-02-13T04:20:42.618404Z"
    }
   },
   "outputs": [],
   "source": [
    "# reflect an existing database into a new model\n",
    "Base = automap_base()\n",
    "# reflect the tables\n",
    "Base.prepare(engine, reflect=True)"
   ]
  },
  {
   "cell_type": "code",
   "execution_count": 7,
   "metadata": {
    "ExecuteTime": {
     "end_time": "2020-02-13T04:20:42.673330Z",
     "start_time": "2020-02-13T04:20:42.656806Z"
    }
   },
   "outputs": [
    {
     "data": {
      "text/plain": [
       "['measurement', 'station']"
      ]
     },
     "execution_count": 7,
     "metadata": {},
     "output_type": "execute_result"
    }
   ],
   "source": [
    "# We can view all of the classes that automap found\n",
    "Base.classes.keys()"
   ]
  },
  {
   "cell_type": "code",
   "execution_count": 8,
   "metadata": {
    "ExecuteTime": {
     "end_time": "2020-02-13T04:20:42.689441Z",
     "start_time": "2020-02-13T04:20:42.681608Z"
    }
   },
   "outputs": [],
   "source": [
    "# Save references to each table\n",
    "Measurement = Base.classes.measurement\n",
    "Station = Base.classes.station"
   ]
  },
  {
   "cell_type": "code",
   "execution_count": 9,
   "metadata": {
    "ExecuteTime": {
     "end_time": "2020-02-13T04:20:42.700531Z",
     "start_time": "2020-02-13T04:20:42.693214Z"
    }
   },
   "outputs": [],
   "source": [
    "# Create our session (link) from Python to the DB\n",
    "session = Session(engine)"
   ]
  },
  {
   "cell_type": "markdown",
   "metadata": {},
   "source": [
    "# Exploratory Climate Analysis"
   ]
  },
  {
   "cell_type": "code",
   "execution_count": 10,
   "metadata": {
    "ExecuteTime": {
     "end_time": "2020-02-13T04:20:43.087251Z",
     "start_time": "2020-02-13T04:20:42.703524Z"
    },
    "scrolled": true
   },
   "outputs": [
    {
     "data": {
      "image/png": "[encoded data removed]",
      "text/plain": [
       "<Figure size 432x288 with 1 Axes>"
      ]
     },
     "metadata": {},
     "output_type": "display_data"
    }
   ],
   "source": [
    "# Design a query to retrieve the last 12 months of precipitation data and plot the results\n",
    "latest_date = (session.query(Measurement.date).order_by(Measurement.date.desc()).first())\n",
    "latest_date = list(np.ravel(latest_date))[0]\n",
    "latest_date = dt.datetime.strptime(latest_date, \"%Y-%m-%d\")\n",
    "late_yr = int(dt.datetime.strftime(latest_date, \"%Y\"))\n",
    "late_mo = int(dt.datetime.strftime(latest_date, \"%m\"))\n",
    "late_day = int(dt.datetime.strftime(latest_date, \"%d\"))\n",
    "                                   \n",
    "\n",
    "# Calculate the date 1 year ago from the last data point in the database\n",
    "prev_year = dt.date(late_yr,late_mo,late_day) - dt.timedelta(days=365)\n",
    "\n",
    "# Perform a query to retrieve the data and precipitation scores\n",
    "precip = (session.query(Measurement.date, Measurement.prcp).filter(Measurement.date>prev_year).\\\n",
    "          order_by(Measurement.date).all())\n",
    "\n",
    "# Save the query results as a Pandas DataFrame and set the index to the date column\n",
    "precip_df = pd.DataFrame(precip)\n",
    "precip_df = precip_df.set_index('date')\n",
    "\n",
    "# Sort the dataframe by date\n",
    "precip_df = precip_df.sort_index(ascending=True)\n",
    "\n",
    "# Use Pandas Plotting with Matplotlib to plot the data\n",
    "precip_df.plot()\n",
    "plt.show()\n"
   ]
  },
  {
   "cell_type": "markdown",
   "metadata": {},
   "source": [
    "![precipitation](Images/precipitation.png)"
   ]
  },
  {
   "cell_type": "code",
   "execution_count": 11,
   "metadata": {
    "ExecuteTime": {
     "end_time": "2020-02-13T04:20:43.116690Z",
     "start_time": "2020-02-13T04:20:43.090041Z"
    }
   },
   "outputs": [
    {
     "data": {
      "text/html": [
       "<div>\n",
       "<style scoped>\n",
       "    .dataframe tbody tr th:only-of-type {\n",
       "        vertical-align: middle;\n",
       "    }\n",
       "\n",
       "    .dataframe tbody tr th {\n",
       "        vertical-align: top;\n",
       "    }\n",
       "\n",
       "    .dataframe thead th {\n",
       "        text-align: right;\n",
       "    }\n",
       "</style>\n",
       "<table border=\"1\" class=\"dataframe\">\n",
       "  <thead>\n",
       "    <tr style=\"text-align: right;\">\n",
       "      <th></th>\n",
       "      <th>prcp</th>\n",
       "    </tr>\n",
       "  </thead>\n",
       "  <tbody>\n",
       "    <tr>\n",
       "      <th>count</th>\n",
       "      <td>2015.000000</td>\n",
       "    </tr>\n",
       "    <tr>\n",
       "      <th>mean</th>\n",
       "      <td>0.176462</td>\n",
       "    </tr>\n",
       "    <tr>\n",
       "      <th>std</th>\n",
       "      <td>0.460288</td>\n",
       "    </tr>\n",
       "    <tr>\n",
       "      <th>min</th>\n",
       "      <td>0.000000</td>\n",
       "    </tr>\n",
       "    <tr>\n",
       "      <th>25%</th>\n",
       "      <td>0.000000</td>\n",
       "    </tr>\n",
       "    <tr>\n",
       "      <th>50%</th>\n",
       "      <td>0.020000</td>\n",
       "    </tr>\n",
       "    <tr>\n",
       "      <th>75%</th>\n",
       "      <td>0.130000</td>\n",
       "    </tr>\n",
       "    <tr>\n",
       "      <th>max</th>\n",
       "      <td>6.700000</td>\n",
       "    </tr>\n",
       "  </tbody>\n",
       "</table>\n",
       "</div>"
      ],
      "text/plain": [
       "              prcp\n",
       "count  2015.000000\n",
       "mean      0.176462\n",
       "std       0.460288\n",
       "min       0.000000\n",
       "25%       0.000000\n",
       "50%       0.020000\n",
       "75%       0.130000\n",
       "max       6.700000"
      ]
     },
     "execution_count": 11,
     "metadata": {},
     "output_type": "execute_result"
    }
   ],
   "source": [
    "# Use Pandas to calculate the summary statistics for the precipitation data\n",
    "precip_df.describe()"
   ]
  },
  {
   "cell_type": "markdown",
   "metadata": {},
   "source": [
    "![describe](Images/describe.png)"
   ]
  },
  {
   "cell_type": "code",
   "execution_count": 12,
   "metadata": {
    "ExecuteTime": {
     "end_time": "2020-02-13T04:20:43.141089Z",
     "start_time": "2020-02-13T04:20:43.120746Z"
    }
   },
   "outputs": [
    {
     "name": "stdout",
     "output_type": "stream",
     "text": [
      "The number of stations is 9\n"
     ]
    }
   ],
   "source": [
    "# Design a query to show how many stations are available in this dataset?\n",
    "station_ct = session.query(Station).count()\n",
    "print(f\"The number of stations is {station_ct}\")"
   ]
  },
  {
   "cell_type": "code",
   "execution_count": 13,
   "metadata": {
    "ExecuteTime": {
     "end_time": "2020-02-13T04:20:43.197061Z",
     "start_time": "2020-02-13T04:20:43.145368Z"
    },
    "code_folding": []
   },
   "outputs": [
    {
     "data": {
      "text/plain": [
       "[('USC00519281', 2772),\n",
       " ('USC00519397', 2724),\n",
       " ('USC00513117', 2709),\n",
       " ('USC00519523', 2669),\n",
       " ('USC00516128', 2612),\n",
       " ('USC00514830', 2202),\n",
       " ('USC00511918', 1979),\n",
       " ('USC00517948', 1372),\n",
       " ('USC00518838', 511)]"
      ]
     },
     "execution_count": 13,
     "metadata": {},
     "output_type": "execute_result"
    }
   ],
   "source": [
    "# What are the most active stations? (i.e. what stations have the most rows)?\n",
    "active_stations = (session.query(Measurement.station, func.count(Measurement.station)).\\\n",
    "                   group_by(Measurement.station).order_by(func.count(Measurement.station).\\\n",
    "                                                          desc()).all())\n",
    "\n",
    "# List the stations and the counts in descending order.\n",
    "active_stations"
   ]
  },
  {
   "cell_type": "code",
   "execution_count": 14,
   "metadata": {
    "ExecuteTime": {
     "end_time": "2020-02-13T04:20:43.231647Z",
     "start_time": "2020-02-13T04:20:43.200189Z"
    }
   },
   "outputs": [
    {
     "name": "stdout",
     "output_type": "stream",
     "text": [
      "[(53.0, 87.0, 71.66378066378067)]\n"
     ]
    }
   ],
   "source": [
    "# Using the station id from the previous query, calculate the lowest temperature recorded, \n",
    "# highest temperature recorded, and average temperature of the most active station?\n",
    "station_id = active_stations[0] [0]\n",
    "\n",
    "stats = session.query(func.min(Measurement.tobs),func.max(Measurement.tobs), func.avg(Measurement.tobs).\\\n",
    "    filter(Measurement.station == station_id))\n",
    "stats_list = list(stats)\n",
    "print(stats_list)"
   ]
  },
  {
   "cell_type": "code",
   "execution_count": 15,
   "metadata": {
    "ExecuteTime": {
     "end_time": "2020-02-13T04:20:43.596039Z",
     "start_time": "2020-02-13T04:20:43.235061Z"
    }
   },
   "outputs": [
    {
     "data": {
      "image/png": "[encoded data removed]",
      "text/plain": [
       "<Figure size 432x288 with 1 Axes>"
      ]
     },
     "metadata": {},
     "output_type": "display_data"
    }
   ],
   "source": [
    "# Choose the station with the highest number of temperature observations.\n",
    "# Query the last 12 months of temperature observation data for this station and plot the results as a histogram\n",
    "temp = (session.query(Measurement.tobs,Measurement.date).filter(Measurement.date>prev_year).\\\n",
    "                     filter(Measurement.station == station_id)\\\n",
    "                    .order_by(Measurement.date).all())\n",
    "temp_df = pd.DataFrame(temp)\n",
    "temp_df = temp_df.set_index('date')\n",
    "\n",
    "temp_df.plot(kind='hist', bins=12)\n",
    "plt.show()\n"
   ]
  },
  {
   "cell_type": "markdown",
   "metadata": {},
   "source": [
    "![precipitation](Images/station-histogram.png)"
   ]
  },
  {
   "cell_type": "code",
   "execution_count": 16,
   "metadata": {
    "ExecuteTime": {
     "end_time": "2020-02-13T04:20:43.619033Z",
     "start_time": "2020-02-13T04:20:43.597747Z"
    }
   },
   "outputs": [
    {
     "name": "stdout",
     "output_type": "stream",
     "text": [
      "[(62.0, 69.57142857142857, 74.0)]\n"
     ]
    }
   ],
   "source": [
    "# This function called `calc_temps` will accept start date and end date in the format '%Y-%m-%d' \n",
    "# and return the minimum, average, and maximum temperatures for that range of dates\n",
    "def calc_temps(start_date, end_date):\n",
    "    \"\"\"TMIN, TAVG, and TMAX for a list of dates.\n",
    "    \n",
    "    Args:\n",
    "        start_date (string): A date string in the format %Y-%m-%d\n",
    "        end_date (string): A date string in the format %Y-%m-%d\n",
    "        \n",
    "    Returns:\n",
    "        TMIN, TAVE, and TMAX\n",
    "    \"\"\"\n",
    "    \n",
    "    return session.query(func.min(Measurement.tobs), func.avg(Measurement.tobs), func.max(Measurement.tobs)).\\\n",
    "        filter(Measurement.date >= start_date).filter(Measurement.date <= end_date).all()\n",
    "\n",
    "# function usage example\n",
    "print(calc_temps('2012-02-28', '2012-03-05'))"
   ]
  },
  {
   "cell_type": "code",
   "execution_count": 17,
   "metadata": {
    "ExecuteTime": {
     "end_time": "2020-02-13T04:20:43.639673Z",
     "start_time": "2020-02-13T04:20:43.622047Z"
    }
   },
   "outputs": [
    {
     "name": "stdout",
     "output_type": "stream",
     "text": [
      "[(58.0, 73.2840909090909, 83.0)]\n"
     ]
    }
   ],
   "source": [
    "# Use your previous function `calc_temps` to calculate the tmin, tavg, and tmax \n",
    "# for your trip using the previous year's data for those same dates.\n",
    "\n",
    "trip = \"2020-04-19 to \\n 2020-05-02\"\n",
    "trip_start = \"2017-04-19\"\n",
    "trip_end = \"2017-05-02\"\n",
    "\n",
    "trip_temps = calc_temps(trip_start, trip_end)\n",
    "print(trip_temps)"
   ]
  },
  {
   "cell_type": "code",
   "execution_count": 18,
   "metadata": {
    "ExecuteTime": {
     "end_time": "2020-02-13T04:20:43.862819Z",
     "start_time": "2020-02-13T04:20:43.639673Z"
    }
   },
   "outputs": [
    {
     "data": {
      "image/png": "[encoded data removed]",
      "text/plain": [
       "<Figure size 432x288 with 1 Axes>"
      ]
     },
     "metadata": {},
     "output_type": "display_data"
    }
   ],
   "source": [
    "# Plot the results from your previous query as a bar chart. \n",
    "# Use \"Trip Avg Temp\" as your Title\n",
    "# Use the average temperature for the y value\n",
    "# Use the peak-to-peak (tmax-tmin) value as the y error bar (yerr)\n",
    "tmin = trip_temps[0] [0]\n",
    "tavg = trip_temps[0] [1]\n",
    "tmax = trip_temps[0] [2]\n",
    "\n",
    "plt.bar(trip, tavg, yerr=(tmax-tmin), alpha=0.5, color=\"coral\")\n",
    "plt.ylim (0,100)\n",
    "plt.xlim(-2, 2)\n",
    "plt.title(\"Trip Avg Temp\")\n",
    "plt.ylabel(\"Temp (F)\")\n",
    "plt.show()\n"
   ]
  },
  {
   "cell_type": "code",
   "execution_count": 19,
   "metadata": {
    "ExecuteTime": {
     "end_time": "2020-02-13T04:20:43.912180Z",
     "start_time": "2020-02-13T04:20:43.862819Z"
    }
   },
   "outputs": [
    {
     "data": {
      "text/html": [
       "<div>\n",
       "<style scoped>\n",
       "    .dataframe tbody tr th:only-of-type {\n",
       "        vertical-align: middle;\n",
       "    }\n",
       "\n",
       "    .dataframe tbody tr th {\n",
       "        vertical-align: top;\n",
       "    }\n",
       "\n",
       "    .dataframe thead th {\n",
       "        text-align: right;\n",
       "    }\n",
       "</style>\n",
       "<table border=\"1\" class=\"dataframe\">\n",
       "  <thead>\n",
       "    <tr style=\"text-align: right;\">\n",
       "      <th></th>\n",
       "      <th>Station</th>\n",
       "      <th>Name</th>\n",
       "      <th>Latitude</th>\n",
       "      <th>Longitude</th>\n",
       "      <th>Elevation</th>\n",
       "      <th>Total Precipitation</th>\n",
       "    </tr>\n",
       "  </thead>\n",
       "  <tbody>\n",
       "    <tr>\n",
       "      <th>0</th>\n",
       "      <td>USC00519523</td>\n",
       "      <td>WAIMANALO EXPERIMENTAL FARM, HI US</td>\n",
       "      <td>21.33556</td>\n",
       "      <td>-157.71139</td>\n",
       "      <td>19.5</td>\n",
       "      <td>10.35</td>\n",
       "    </tr>\n",
       "    <tr>\n",
       "      <th>1</th>\n",
       "      <td>USC00513117</td>\n",
       "      <td>KANEOHE 838.1, HI US</td>\n",
       "      <td>21.42340</td>\n",
       "      <td>-157.80150</td>\n",
       "      <td>14.6</td>\n",
       "      <td>6.90</td>\n",
       "    </tr>\n",
       "    <tr>\n",
       "      <th>2</th>\n",
       "      <td>USC00519281</td>\n",
       "      <td>WAIHEE 837.5, HI US</td>\n",
       "      <td>21.45167</td>\n",
       "      <td>-157.84889</td>\n",
       "      <td>32.9</td>\n",
       "      <td>5.98</td>\n",
       "    </tr>\n",
       "    <tr>\n",
       "      <th>3</th>\n",
       "      <td>USC00516128</td>\n",
       "      <td>MANOA LYON ARBO 785.2, HI US</td>\n",
       "      <td>21.33310</td>\n",
       "      <td>-157.80250</td>\n",
       "      <td>152.4</td>\n",
       "      <td>5.90</td>\n",
       "    </tr>\n",
       "    <tr>\n",
       "      <th>4</th>\n",
       "      <td>USC00514830</td>\n",
       "      <td>KUALOA RANCH HEADQUARTERS 886.9, HI US</td>\n",
       "      <td>21.52130</td>\n",
       "      <td>-157.83740</td>\n",
       "      <td>7.0</td>\n",
       "      <td>4.16</td>\n",
       "    </tr>\n",
       "    <tr>\n",
       "      <th>5</th>\n",
       "      <td>USC00519397</td>\n",
       "      <td>WAIKIKI 717.2, HI US</td>\n",
       "      <td>21.27160</td>\n",
       "      <td>-157.81680</td>\n",
       "      <td>3.0</td>\n",
       "      <td>1.92</td>\n",
       "    </tr>\n",
       "    <tr>\n",
       "      <th>6</th>\n",
       "      <td>USC00517948</td>\n",
       "      <td>PEARL CITY, HI US</td>\n",
       "      <td>21.39340</td>\n",
       "      <td>-157.97510</td>\n",
       "      <td>11.9</td>\n",
       "      <td>NaN</td>\n",
       "    </tr>\n",
       "  </tbody>\n",
       "</table>\n",
       "</div>"
      ],
      "text/plain": [
       "       Station                                    Name  Latitude  Longitude  \\\n",
       "0  USC00519523      WAIMANALO EXPERIMENTAL FARM, HI US  21.33556 -157.71139   \n",
       "1  USC00513117                    KANEOHE 838.1, HI US  21.42340 -157.80150   \n",
       "2  USC00519281                     WAIHEE 837.5, HI US  21.45167 -157.84889   \n",
       "3  USC00516128            MANOA LYON ARBO 785.2, HI US  21.33310 -157.80250   \n",
       "4  USC00514830  KUALOA RANCH HEADQUARTERS 886.9, HI US  21.52130 -157.83740   \n",
       "5  USC00519397                    WAIKIKI 717.2, HI US  21.27160 -157.81680   \n",
       "6  USC00517948                       PEARL CITY, HI US  21.39340 -157.97510   \n",
       "\n",
       "   Elevation  Total Precipitation  \n",
       "0       19.5                10.35  \n",
       "1       14.6                 6.90  \n",
       "2       32.9                 5.98  \n",
       "3      152.4                 5.90  \n",
       "4        7.0                 4.16  \n",
       "5        3.0                 1.92  \n",
       "6       11.9                  NaN  "
      ]
     },
     "execution_count": 19,
     "metadata": {},
     "output_type": "execute_result"
    }
   ],
   "source": [
    "# Calculate the total amount of rainfall per weather station for your trip dates using the previous year's matching dates.\n",
    "# Sort this in descending order by precipitation amount and list the station, name, latitude, longitude, and elevation\n",
    "trip_rainfall = session.query(Station.station, Station.name, Station.latitude, Station.longitude, Station.elevation,\\\n",
    "                              func.sum(Measurement.prcp)).filter(Station.station == Measurement.station).\\\n",
    "                             filter(Measurement.date >= trip_start).filter(Measurement.date <= trip_end).\\\n",
    "                             group_by(Station.station).order_by(func.sum(Measurement.prcp).desc()).all()\n",
    "trip_rain_df = pd.DataFrame(trip_rainfall, columns = [\"Station\", \"Name\", \"Latitude\", \"Longitude\", \"Elevation\", \"Total Precipitation\"])\n",
    "trip_rain_df\n",
    "\n"
   ]
  },
  {
   "cell_type": "markdown",
   "metadata": {},
   "source": [
    "## Optional Challenge Assignment"
   ]
  },
  {
   "cell_type": "code",
   "execution_count": 20,
   "metadata": {
    "ExecuteTime": {
     "end_time": "2020-02-13T04:20:43.956888Z",
     "start_time": "2020-02-13T04:20:43.913224Z"
    }
   },
   "outputs": [
    {
     "data": {
      "text/plain": [
       "[(62.0, 69.15384615384616, 77.0)]"
      ]
     },
     "execution_count": 20,
     "metadata": {},
     "output_type": "execute_result"
    }
   ],
   "source": [
    "# Create a query that will calculate the daily normals \n",
    "# (i.e. the averages for tmin, tmax, and tavg for all historic data matching a specific month and day)\n",
    "\n",
    "def daily_normals(date):\n",
    "    \"\"\"Daily Normals.\n",
    "    \n",
    "    Args:\n",
    "        date (str): A date string in the format '%m-%d'\n",
    "        \n",
    "    Returns:\n",
    "        A list of tuples containing the daily normals, tmin, tavg, and tmax\n",
    "    \n",
    "    \"\"\"\n",
    "    \n",
    "    sel = [func.min(Measurement.tobs), func.avg(Measurement.tobs), func.max(Measurement.tobs)]\n",
    "    return session.query(*sel).filter(func.strftime(\"%m-%d\", Measurement.date) == date).all()\n",
    "    \n",
    "daily_normals(\"01-01\")"
   ]
  },
  {
   "cell_type": "code",
   "execution_count": 21,
   "metadata": {
    "ExecuteTime": {
     "end_time": "2020-02-13T04:20:44.304727Z",
     "start_time": "2020-02-13T04:20:43.960308Z"
    }
   },
   "outputs": [
    {
     "data": {
      "text/plain": [
       "[[(65.0, 72.42105263157895, 83.0)],\n",
       " [(64.0, 72.73684210526316, 80.0)],\n",
       " [(66.0, 72.32142857142857, 78.0)],\n",
       " [(65.0, 72.92727272727272, 84.0)],\n",
       " [(65.0, 73.01818181818182, 79.0)],\n",
       " [(67.0, 73.3103448275862, 80.0)],\n",
       " [(66.0, 73.96551724137932, 83.0)],\n",
       " [(66.0, 74.01724137931035, 81.0)],\n",
       " [(65.0, 72.87272727272727, 81.0)],\n",
       " [(63.0, 73.46428571428571, 79.0)],\n",
       " [(66.0, 73.30357142857143, 81.0)],\n",
       " [(58.0, 71.5576923076923, 78.0)],\n",
       " [(65.0, 72.75925925925925, 79.0)],\n",
       " [(65.0, 73.05084745762711, 79.0)]]"
      ]
     },
     "execution_count": 21,
     "metadata": {},
     "output_type": "execute_result"
    }
   ],
   "source": [
    "# calculate the daily normals for your trip\n",
    "# push each tuple of calculations into a list called `normals`\n",
    "from datetime import timedelta, date\n",
    "# Set the start and end date of the trip\n",
    "start_date = date(2020, 4, 19)\n",
    "end_date = date(2020, 5, 2)\n",
    "\n",
    "\n",
    "# Use the start and end date to create a range of dates\n",
    "daterange = pd.date_range(start_date, end_date)\n",
    "daterange\n",
    "    \n",
    "# Stip off the year and save a list of %m-%d strings\n",
    "date_list = daterange.strftime(\"%m-%d\")\n",
    "date_list\n",
    "\n",
    "# Loop through the list of %m-%d strings and calculate the normals for each date\n",
    "trip_norms = [daily_normals(date) for date in date_list]\n",
    "trip_norms"
   ]
  },
  {
   "cell_type": "code",
   "execution_count": 22,
   "metadata": {
    "ExecuteTime": {
     "end_time": "2020-02-13T04:20:44.333281Z",
     "start_time": "2020-02-13T04:20:44.306771Z"
    }
   },
   "outputs": [
    {
     "data": {
      "text/html": [
       "<div>\n",
       "<style scoped>\n",
       "    .dataframe tbody tr th:only-of-type {\n",
       "        vertical-align: middle;\n",
       "    }\n",
       "\n",
       "    .dataframe tbody tr th {\n",
       "        vertical-align: top;\n",
       "    }\n",
       "\n",
       "    .dataframe thead th {\n",
       "        text-align: right;\n",
       "    }\n",
       "</style>\n",
       "<table border=\"1\" class=\"dataframe\">\n",
       "  <thead>\n",
       "    <tr style=\"text-align: right;\">\n",
       "      <th></th>\n",
       "      <th>tmin</th>\n",
       "      <th>tavg</th>\n",
       "      <th>tmax</th>\n",
       "    </tr>\n",
       "    <tr>\n",
       "      <th>Date</th>\n",
       "      <th></th>\n",
       "      <th></th>\n",
       "      <th></th>\n",
       "    </tr>\n",
       "  </thead>\n",
       "  <tbody>\n",
       "    <tr>\n",
       "      <th>04-19</th>\n",
       "      <td>65.0</td>\n",
       "      <td>72.421053</td>\n",
       "      <td>83.0</td>\n",
       "    </tr>\n",
       "    <tr>\n",
       "      <th>04-20</th>\n",
       "      <td>64.0</td>\n",
       "      <td>72.736842</td>\n",
       "      <td>80.0</td>\n",
       "    </tr>\n",
       "    <tr>\n",
       "      <th>04-21</th>\n",
       "      <td>66.0</td>\n",
       "      <td>72.321429</td>\n",
       "      <td>78.0</td>\n",
       "    </tr>\n",
       "    <tr>\n",
       "      <th>04-22</th>\n",
       "      <td>65.0</td>\n",
       "      <td>72.927273</td>\n",
       "      <td>84.0</td>\n",
       "    </tr>\n",
       "    <tr>\n",
       "      <th>04-23</th>\n",
       "      <td>65.0</td>\n",
       "      <td>73.018182</td>\n",
       "      <td>79.0</td>\n",
       "    </tr>\n",
       "    <tr>\n",
       "      <th>04-24</th>\n",
       "      <td>67.0</td>\n",
       "      <td>73.310345</td>\n",
       "      <td>80.0</td>\n",
       "    </tr>\n",
       "    <tr>\n",
       "      <th>04-25</th>\n",
       "      <td>66.0</td>\n",
       "      <td>73.965517</td>\n",
       "      <td>83.0</td>\n",
       "    </tr>\n",
       "    <tr>\n",
       "      <th>04-26</th>\n",
       "      <td>66.0</td>\n",
       "      <td>74.017241</td>\n",
       "      <td>81.0</td>\n",
       "    </tr>\n",
       "    <tr>\n",
       "      <th>04-27</th>\n",
       "      <td>65.0</td>\n",
       "      <td>72.872727</td>\n",
       "      <td>81.0</td>\n",
       "    </tr>\n",
       "    <tr>\n",
       "      <th>04-28</th>\n",
       "      <td>63.0</td>\n",
       "      <td>73.464286</td>\n",
       "      <td>79.0</td>\n",
       "    </tr>\n",
       "    <tr>\n",
       "      <th>04-29</th>\n",
       "      <td>66.0</td>\n",
       "      <td>73.303571</td>\n",
       "      <td>81.0</td>\n",
       "    </tr>\n",
       "    <tr>\n",
       "      <th>04-30</th>\n",
       "      <td>58.0</td>\n",
       "      <td>71.557692</td>\n",
       "      <td>78.0</td>\n",
       "    </tr>\n",
       "    <tr>\n",
       "      <th>05-01</th>\n",
       "      <td>65.0</td>\n",
       "      <td>72.759259</td>\n",
       "      <td>79.0</td>\n",
       "    </tr>\n",
       "    <tr>\n",
       "      <th>05-02</th>\n",
       "      <td>65.0</td>\n",
       "      <td>73.050847</td>\n",
       "      <td>79.0</td>\n",
       "    </tr>\n",
       "  </tbody>\n",
       "</table>\n",
       "</div>"
      ],
      "text/plain": [
       "       tmin       tavg  tmax\n",
       "Date                        \n",
       "04-19  65.0  72.421053  83.0\n",
       "04-20  64.0  72.736842  80.0\n",
       "04-21  66.0  72.321429  78.0\n",
       "04-22  65.0  72.927273  84.0\n",
       "04-23  65.0  73.018182  79.0\n",
       "04-24  67.0  73.310345  80.0\n",
       "04-25  66.0  73.965517  83.0\n",
       "04-26  66.0  74.017241  81.0\n",
       "04-27  65.0  72.872727  81.0\n",
       "04-28  63.0  73.464286  79.0\n",
       "04-29  66.0  73.303571  81.0\n",
       "04-30  58.0  71.557692  78.0\n",
       "05-01  65.0  72.759259  79.0\n",
       "05-02  65.0  73.050847  79.0"
      ]
     },
     "execution_count": 22,
     "metadata": {},
     "output_type": "execute_result"
    }
   ],
   "source": [
    "# Load the previous query results into a Pandas DataFrame and add the `trip_dates` range as the `date` index\n",
    "trip_norms = [np.array(norm [0]) for norm in trip_norms]\n",
    "trip_norms_df = pd.DataFrame(trip_norms)\n",
    "\n",
    "trip_norms_df[\"Date\"] = date_list\n",
    "\n",
    "trip_norms_df = trip_norms_df.set_index(\"Date\")\n",
    "trip_norms_df = trip_norms_df.rename(columns={0: \"tmin\", 1: \"tavg\", 2: \"tmax\"})\n",
    "\n",
    "\n",
    "trip_norms_df\n"
   ]
  },
  {
   "cell_type": "code",
   "execution_count": 23,
   "metadata": {
    "ExecuteTime": {
     "end_time": "2020-02-13T04:20:44.692080Z",
     "start_time": "2020-02-13T04:20:44.343932Z"
    }
   },
   "outputs": [
    {
     "data": {
      "text/plain": [
       "<matplotlib.axes._subplots.AxesSubplot at 0x18c0a0b6898>"
      ]
     },
     "execution_count": 23,
     "metadata": {},
     "output_type": "execute_result"
    },
    {
     "data": {
      "image/png": "[encoded data removed]",
      "text/plain": [
       "<Figure size 432x288 with 1 Axes>"
      ]
     },
     "metadata": {},
     "output_type": "display_data"
    }
   ],
   "source": [
    "# Plot the daily normals as an area plot with `stacked=False`\n",
    "trip_norms_df.plot.area(stacked=False, alpha=0.5)\n"
   ]
  },
  {
   "cell_type": "code",
   "execution_count": null,
   "metadata": {},
   "outputs": [],
   "source": []
  }
 ],
 "metadata": {
  "kernel_info": {
   "name": "python3"
  },
  "kernelspec": {
   "display_name": "Python 3",
   "language": "python",
   "name": "python3"
  },
  "language_info": {
   "codemirror_mode": {
    "name": "ipython",
    "version": 3
   },
   "file_extension": ".py",
   "mimetype": "text/x-python",
   "name": "python",
   "nbconvert_exporter": "python",
   "pygments_lexer": "ipython3",
   "version": "3.6.9"
  },
  "nteract": {
   "version": "0.12.3"
  },
  "varInspector": {
   "cols": {
    "lenName": 16,
    "lenType": 16,
    "lenVar": 40
   },
   "kernels_config": {
    "python": {
     "delete_cmd_postfix": "",
     "delete_cmd_prefix": "del ",
     "library": "var_list.py",
     "varRefreshCmd": "print(var_dic_list())"
    },
    "r": {
     "delete_cmd_postfix": ") ",
     "delete_cmd_prefix": "rm(",
     "library": "var_list.r",
     "varRefreshCmd": "cat(var_dic_list()) "
    }
   },
   "types_to_exclude": [
    "module",
    "function",
    "builtin_function_or_method",
    "instance",
    "_Feature"
   ],
   "window_display": false
  }
 },
 "nbformat": 4,
 "nbformat_minor": 2
}
